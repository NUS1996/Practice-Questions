{
 "cells": [
  {
   "cell_type": "markdown",
   "id": "7b009cd6",
   "metadata": {},
   "source": [
    "## Len's Slice"
   ]
  },
  {
   "cell_type": "code",
   "execution_count": 2,
   "id": "af13a900",
   "metadata": {},
   "outputs": [],
   "source": [
    "toppings=[\"pepperoni\",\"pineapple\",\"cheese\",\"sausage\",\"olives\",\"anchovies\",\"mushrooms\"]\n",
    "prices=[2,6,1,3,2,7,2]\n",
    "\n"
   ]
  },
  {
   "cell_type": "code",
   "execution_count": 3,
   "id": "db3a8214",
   "metadata": {},
   "outputs": [
    {
     "name": "stdout",
     "output_type": "stream",
     "text": [
      "3\n"
     ]
    }
   ],
   "source": [
    "num_two_dollar_slices=prices.count(2)\n",
    "print(num_two_dollar_slices)"
   ]
  },
  {
   "cell_type": "code",
   "execution_count": 4,
   "id": "3e53b85d",
   "metadata": {},
   "outputs": [
    {
     "name": "stdout",
     "output_type": "stream",
     "text": [
      "We sell 7 different kinds of pizza!\n"
     ]
    }
   ],
   "source": [
    "num_pizzas=len(toppings)\n",
    "print(f\"We sell {num_pizzas} different kinds of pizza!\")\n"
   ]
  },
  {
   "cell_type": "code",
   "execution_count": 5,
   "id": "92debd31",
   "metadata": {},
   "outputs": [
    {
     "name": "stdout",
     "output_type": "stream",
     "text": [
      "[[2, 'pepperoni'], [6, 'pineapple'], [1, 'cheese'], [3, 'sausage'], [2, 'olives'], [7, 'anchovies'], [2, 'mushrooms']]\n",
      "[[1, 'cheese'], [2, 'mushrooms'], [2, 'olives'], [2, 'pepperoni'], [3, 'sausage'], [6, 'pineapple'], [7, 'anchovies']]\n"
     ]
    }
   ],
   "source": [
    "pizza_and_prices=[[2,\"pepperoni\"],[6,\"pineapple\"],[1,\"cheese\"],[3,\"sausage\"],[2,\"olives\"],[7,\"anchovies\"],[2,\"mushrooms\"]]\n",
    "print(pizza_and_prices)\n",
    "pizza_and_prices.sort()\n",
    "print(pizza_and_prices)\n"
   ]
  },
  {
   "cell_type": "code",
   "execution_count": 6,
   "id": "3cfd3380",
   "metadata": {},
   "outputs": [],
   "source": [
    "cheapest_pizza=pizza_and_prices[0]\n",
    "priciest_pizza=pizza_and_prices[-1]\n",
    "pizza_and_prices.pop()\n",
    "pizza_and_prices.insert(4,[2.5,\"peppers\"])\n"
   ]
  },
  {
   "cell_type": "code",
   "execution_count": 7,
   "id": "bf6f3b08",
   "metadata": {},
   "outputs": [
    {
     "name": "stdout",
     "output_type": "stream",
     "text": [
      "[[1, 'cheese'], [2, 'mushrooms'], [2, 'olives']]\n"
     ]
    }
   ],
   "source": [
    "three_cheapest=pizza_and_prices[:3]\n",
    "print(three_cheapest)"
   ]
  },
  {
   "cell_type": "code",
   "execution_count": null,
   "id": "ff3706c1",
   "metadata": {},
   "outputs": [],
   "source": []
  }
 ],
 "metadata": {
  "kernelspec": {
   "display_name": "Python 3 (ipykernel)",
   "language": "python",
   "name": "python3"
  },
  "language_info": {
   "codemirror_mode": {
    "name": "ipython",
    "version": 3
   },
   "file_extension": ".py",
   "mimetype": "text/x-python",
   "name": "python",
   "nbconvert_exporter": "python",
   "pygments_lexer": "ipython3",
   "version": "3.9.7"
  }
 },
 "nbformat": 4,
 "nbformat_minor": 5
}
