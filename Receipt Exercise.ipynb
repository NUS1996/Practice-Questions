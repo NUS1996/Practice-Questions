{
 "cells": [
  {
   "cell_type": "markdown",
   "id": "81924da4",
   "metadata": {},
   "source": [
    "# Receipts for Lovely Loveseats"
   ]
  },
  {
   "cell_type": "markdown",
   "id": "8b1b6caa",
   "metadata": {},
   "source": [
    "## Adding In The Catalog"
   ]
  },
  {
   "cell_type": "markdown",
   "id": "f7de223c",
   "metadata": {},
   "source": [
    "Let’s add in our first item, the Lovely Loveseat that is the store’s namesake. Create a variable called lovely_loveseat_description and assign to it the following string:\n",
    "Lovely Loveseat. Tufted polyester blend on wood. 32 inches high x 40 inches wide x 30 inches deep. Red or white."
   ]
  },
  {
   "cell_type": "code",
   "execution_count": 1,
   "id": "2b2af633",
   "metadata": {},
   "outputs": [],
   "source": [
    "lovely_loveseat_description='''Lovely Loveseat. Tufted polyester blend on wood. 32 inches high x 40 inches wide x 30 inches deep. Red or white.'''"
   ]
  },
  {
   "cell_type": "markdown",
   "id": "7d476a3d",
   "metadata": {},
   "source": [
    "Great, now let’s create a price for the loveseat. Create a variable lovely_loveseat_price and set it equal to 254.00."
   ]
  },
  {
   "cell_type": "code",
   "execution_count": 2,
   "id": "451c3982",
   "metadata": {},
   "outputs": [],
   "source": [
    "lovely_loveseat_price=254.00"
   ]
  },
  {
   "cell_type": "markdown",
   "id": "4df4834b",
   "metadata": {},
   "source": [
    " Let’s extend our inventory with another characteristic piece of furniture! Create a variable called stylish_settee_description and assign to it the following string:\n",
    "\n",
    "Stylish Settee. Faux leather on birch. 29.50 inches high x 54.75 inches wide x 28 inches deep. Black."
   ]
  },
  {
   "cell_type": "code",
   "execution_count": 3,
   "id": "78bf9f6b",
   "metadata": {},
   "outputs": [],
   "source": [
    "stylist_settee_description='''Stylish Settee. Faux leather on birch. 29.50 inches high x 54.75 inches wide x 28 inches deep. Black.'''"
   ]
  },
  {
   "cell_type": "markdown",
   "id": "dcae11cb",
   "metadata": {},
   "source": [
    "Now let’s set the price for our Stylish Settee. Create a variable stylish_settee_price and assign it the value of 180.50."
   ]
  },
  {
   "cell_type": "code",
   "execution_count": 4,
   "id": "b8497b7c",
   "metadata": {},
   "outputs": [],
   "source": [
    "stylish_settee_price=180.50"
   ]
  },
  {
   "cell_type": "markdown",
   "id": "de7fe0e5",
   "metadata": {},
   "source": [
    " Fantastic, we just need one more item before we’re ready for business. Create a new variable called luxurious_lamp_description and assign it the following:\n",
    "\n",
    "Luxurious Lamp. Glass and iron. 36 inches tall. Brown with cream shade."
   ]
  },
  {
   "cell_type": "code",
   "execution_count": 5,
   "id": "432fc1ae",
   "metadata": {},
   "outputs": [],
   "source": [
    "luxurious_lamp_description='''Luxurious Lamp. Glass and iron. 36 inches tall. Brown with cream shade.'''"
   ]
  },
  {
   "cell_type": "markdown",
   "id": "2c4b8adb",
   "metadata": {},
   "source": [
    "Let’s set the price for this item. Create a variable called luxurious_lamp_price and set it equal to 52.15."
   ]
  },
  {
   "cell_type": "code",
   "execution_count": 6,
   "id": "758ed2e2",
   "metadata": {},
   "outputs": [],
   "source": [
    "luxurious_lamp_price=52.15"
   ]
  },
  {
   "cell_type": "markdown",
   "id": "b5c1f476",
   "metadata": {},
   "source": [
    "In order to be a business, we should also be calculating sales tax. Let’s store that in a variable as well.\n",
    "\n",
    "Define the variable sales_tax and set it equal to .088. That’s 8.8%."
   ]
  },
  {
   "cell_type": "code",
   "execution_count": 7,
   "id": "bf01c6f9",
   "metadata": {},
   "outputs": [],
   "source": [
    "sales_tax=0.088"
   ]
  },
  {
   "cell_type": "markdown",
   "id": "a55a2eea",
   "metadata": {},
   "source": [
    "## Our first customer"
   ]
  },
  {
   "cell_type": "markdown",
   "id": "db652636",
   "metadata": {},
   "source": [
    "Our first customer is making their purchase! Let’s keep a running tally of their expenses by defining a variable called customer_one_total. Since they haven’t purchased anything yet, let’s set that variable equal to 0 for now."
   ]
  },
  {
   "cell_type": "code",
   "execution_count": 8,
   "id": "c6248fea",
   "metadata": {},
   "outputs": [],
   "source": [
    "customer_one_total=0"
   ]
  },
  {
   "cell_type": "markdown",
   "id": "d5fd7ea9",
   "metadata": {},
   "source": [
    "We should also keep a list of the descriptions of things they’re purchasing. Create a variable called customer_one_itemization and set that equal to the empty string \"\". We’ll tack on the descriptions to this as they make their purchases.\n",
    "\n",
    "\n"
   ]
  },
  {
   "cell_type": "code",
   "execution_count": 9,
   "id": "752cd87f",
   "metadata": {},
   "outputs": [],
   "source": [
    "customer_one_itemization=\"\""
   ]
  },
  {
   "cell_type": "markdown",
   "id": "24277d2c",
   "metadata": {},
   "source": [
    "Our customer has decided they are going to purchase our Lovely Loveseat! Add the price to customer_one_total."
   ]
  },
  {
   "cell_type": "code",
   "execution_count": 10,
   "id": "3adcf1f4",
   "metadata": {},
   "outputs": [],
   "source": [
    "customer_one_total+=lovely_loveseat_price"
   ]
  },
  {
   "cell_type": "markdown",
   "id": "77c427ee",
   "metadata": {},
   "source": [
    "Let’s start keeping track of the items our customer purchased. Add the description of the Lovely Loveseat to customer_one_itemization."
   ]
  },
  {
   "cell_type": "code",
   "execution_count": 11,
   "id": "9136214e",
   "metadata": {},
   "outputs": [],
   "source": [
    "customer_one_itemization+=lovely_loveseat_description"
   ]
  },
  {
   "cell_type": "markdown",
   "id": "bf5d198c",
   "metadata": {},
   "source": [
    "Our customer has also decided to purchase the Luxurious Lamp! Let’s add the price to the customer’s total."
   ]
  },
  {
   "cell_type": "code",
   "execution_count": 12,
   "id": "78a0c24d",
   "metadata": {},
   "outputs": [],
   "source": [
    "customer_one_total+=luxurious_lamp_price"
   ]
  },
  {
   "cell_type": "markdown",
   "id": "ac39f59f",
   "metadata": {},
   "source": [
    "Let’s keep the itemization up-to-date and add the description of the Luxurious Lamp to our itemization."
   ]
  },
  {
   "cell_type": "code",
   "execution_count": 13,
   "id": "51a01ae2",
   "metadata": {},
   "outputs": [],
   "source": [
    "customer_one_itemization+='                     '+ luxurious_lamp_description"
   ]
  },
  {
   "cell_type": "markdown",
   "id": "f601bb82",
   "metadata": {},
   "source": [
    "They’re ready to check out! Let’s begin by calculating sales tax. Create a variable called customer_one_tax and set it equal to customer_one_total times sales_tax."
   ]
  },
  {
   "cell_type": "code",
   "execution_count": 14,
   "id": "4a29ab05",
   "metadata": {},
   "outputs": [],
   "source": [
    "customer_one_tax=customer_one_total*sales_tax"
   ]
  },
  {
   "cell_type": "markdown",
   "id": "c676d4ce",
   "metadata": {},
   "source": [
    "Add the sales tax to the customer’s total cost."
   ]
  },
  {
   "cell_type": "code",
   "execution_count": 15,
   "id": "9d61746a",
   "metadata": {},
   "outputs": [],
   "source": [
    "customer_one_total+=customer_one_tax"
   ]
  },
  {
   "cell_type": "code",
   "execution_count": 16,
   "id": "dbab6d86",
   "metadata": {},
   "outputs": [
    {
     "name": "stdout",
     "output_type": "stream",
     "text": [
      "Customer One Items:\n",
      "Lovely Loveseat. Tufted polyester blend on wood. 32 inches high x 40 inches wide x 30 inches deep. Red or white.                     Luxurious Lamp. Glass and iron. 36 inches tall. Brown with cream shade.\n",
      "333.09119999999996\n"
     ]
    }
   ],
   "source": [
    "print('Customer One Items:')\n",
    "print(customer_one_itemization)\n",
    "print(customer_one_total)"
   ]
  },
  {
   "cell_type": "code",
   "execution_count": null,
   "id": "0dbf0832",
   "metadata": {},
   "outputs": [],
   "source": []
  }
 ],
 "metadata": {
  "kernelspec": {
   "display_name": "Python 3 (ipykernel)",
   "language": "python",
   "name": "python3"
  },
  "language_info": {
   "codemirror_mode": {
    "name": "ipython",
    "version": 3
   },
   "file_extension": ".py",
   "mimetype": "text/x-python",
   "name": "python",
   "nbconvert_exporter": "python",
   "pygments_lexer": "ipython3",
   "version": "3.9.7"
  }
 },
 "nbformat": 4,
 "nbformat_minor": 5
}
