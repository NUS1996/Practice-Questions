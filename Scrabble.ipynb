{
 "cells": [
  {
   "cell_type": "code",
   "execution_count": 1,
   "id": "1960255a",
   "metadata": {},
   "outputs": [],
   "source": [
    "letters = [\"A\", \"B\", \"C\", \"D\", \"E\", \"F\", \"G\", \"H\", \"I\", \"J\", \"K\", \"L\", \"M\", \"N\", \"O\", \"P\", \"Q\", \"R\", \"S\", \"T\", \"U\", \"V\", \"W\", \"X\", \"Y\", \"Z\"]\n",
    "points = [1, 3, 3, 2, 1, 4, 2, 4, 1, 8, 5, 1, 3, 4, 1, 3, 10, 1, 1, 1, 1, 4, 4, 8, 4, 10]"
   ]
  },
  {
   "cell_type": "code",
   "execution_count": 2,
   "id": "fb0197f1",
   "metadata": {},
   "outputs": [
    {
     "name": "stdout",
     "output_type": "stream",
     "text": [
      "15\n"
     ]
    }
   ],
   "source": [
    "letter_to_points={key:value for key,value in zip(letters,points)}\n",
    "letter_to_points[\" \"]=0\n",
    "def score_word(word):\n",
    "  point_total=0\n",
    "  for letter in word:\n",
    "    if letter in letter_to_points:\n",
    "      point_total+=letter_to_points[letter]\n",
    "    else:\n",
    "      point_total+=0\n",
    "  return point_total\n",
    "brownie_points=score_word(\"BROWNIE\")\n",
    "print(brownie_points)"
   ]
  },
  {
   "cell_type": "code",
   "execution_count": null,
   "id": "2bb4c788",
   "metadata": {},
   "outputs": [],
   "source": []
  }
 ],
 "metadata": {
  "kernelspec": {
   "display_name": "Python 3 (ipykernel)",
   "language": "python",
   "name": "python3"
  },
  "language_info": {
   "codemirror_mode": {
    "name": "ipython",
    "version": 3
   },
   "file_extension": ".py",
   "mimetype": "text/x-python",
   "name": "python",
   "nbconvert_exporter": "python",
   "pygments_lexer": "ipython3",
   "version": "3.9.7"
  }
 },
 "nbformat": 4,
 "nbformat_minor": 5
}
