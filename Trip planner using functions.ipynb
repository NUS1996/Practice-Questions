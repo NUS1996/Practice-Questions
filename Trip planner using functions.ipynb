{
 "cells": [
  {
   "cell_type": "markdown",
   "id": "457cf29c",
   "metadata": {},
   "source": [
    "## Trip Planner"
   ]
  },
  {
   "cell_type": "code",
   "execution_count": 1,
   "id": "4ad13fe2",
   "metadata": {},
   "outputs": [
    {
     "name": "stdout",
     "output_type": "stream",
     "text": [
      "Welcome to tripplanner v1.0 Nusan\n"
     ]
    }
   ],
   "source": [
    "def trip_planner_welcome(name):\n",
    "  print(f\"Welcome to tripplanner v1.0 {name}\")\n",
    "trip_planner_welcome(\"Nusan\")\n"
   ]
  },
  {
   "cell_type": "code",
   "execution_count": 2,
   "id": "12bae1e9",
   "metadata": {},
   "outputs": [],
   "source": [
    "def estimated_time_rounded(estimated_time):\n",
    "  rounded_time=round(estimated_time)\n",
    "  return rounded_time\n",
    "estimate=estimated_time_rounded(2.5)\n"
   ]
  },
  {
   "cell_type": "code",
   "execution_count": 3,
   "id": "b1e26fbf",
   "metadata": {},
   "outputs": [
    {
     "name": "stdout",
     "output_type": "stream",
     "text": [
      "Your trip starts off in Colchester\n",
      "And you are travelling to London\n",
      "You will be traveling by Bus\n",
      "It will take approximately 2 hours\n"
     ]
    }
   ],
   "source": [
    "def destination_setup(origin,destination,estimated_time,mode_of_transport=\"Car\"):\n",
    "  print(f\"Your trip starts off in {origin}\")\n",
    "  print(f\"And you are travelling to {destination}\")\n",
    "  print(f\"You will be traveling by {mode_of_transport}\")\n",
    "  print(f\"It will take approximately {estimated_time} hours\")\n",
    "destination_setup(\"Colchester\",\"London\",estimate,\"Bus\")"
   ]
  },
  {
   "cell_type": "code",
   "execution_count": null,
   "id": "1df5f715",
   "metadata": {},
   "outputs": [],
   "source": []
  }
 ],
 "metadata": {
  "kernelspec": {
   "display_name": "Python 3 (ipykernel)",
   "language": "python",
   "name": "python3"
  },
  "language_info": {
   "codemirror_mode": {
    "name": "ipython",
    "version": 3
   },
   "file_extension": ".py",
   "mimetype": "text/x-python",
   "name": "python",
   "nbconvert_exporter": "python",
   "pygments_lexer": "ipython3",
   "version": "3.9.7"
  }
 },
 "nbformat": 4,
 "nbformat_minor": 5
}
