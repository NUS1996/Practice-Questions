{
 "cells": [
  {
   "cell_type": "code",
   "execution_count": 1,
   "id": "51a29db7",
   "metadata": {},
   "outputs": [],
   "source": [
    "hairstyles = [\"bouffant\", \"pixie\", \"dreadlocks\", \"crew\", \"bowl\", \"bob\", \"mohawk\", \"flattop\"]\n",
    "\n",
    "prices = [30, 25, 40, 20, 20, 35, 50, 35]\n",
    "\n",
    "last_week = [2, 3, 5, 8, 4, 4, 6, 2]"
   ]
  },
  {
   "cell_type": "code",
   "execution_count": null,
   "id": "4d443642",
   "metadata": {},
   "outputs": [],
   "source": [
    "total_price=0\n",
    "for price in prices:\n",
    "  total_price+=price\n",
    "average_price=total_price/len(prices)\n",
    "print(f\"Average Haircut Price: {average_price}\")\n",
    "new_prices=[price-5 for price in prices]\n",
    "print(new_prices)\n",
    "total_revenue=0\n",
    "for i in range(0,len(hairstyles)):\n",
    "  total_revenue+=prices[i]*last_week[i]\n",
    "print(f\"Total Revenue : {total_revenue}\")\n",
    "average_daily_revenue=total_revenue/7\n",
    "cuts_under_30=[hairstyles[i]for i in range(0,len(new_prices)-1) if new_prices[i]<30]\n",
    "print(cuts_under_30)"
   ]
  }
 ],
 "metadata": {
  "kernelspec": {
   "display_name": "Python 3 (ipykernel)",
   "language": "python",
   "name": "python3"
  },
  "language_info": {
   "codemirror_mode": {
    "name": "ipython",
    "version": 3
   },
   "file_extension": ".py",
   "mimetype": "text/x-python",
   "name": "python",
   "nbconvert_exporter": "python",
   "pygments_lexer": "ipython3",
   "version": "3.9.7"
  }
 },
 "nbformat": 4,
 "nbformat_minor": 5
}
