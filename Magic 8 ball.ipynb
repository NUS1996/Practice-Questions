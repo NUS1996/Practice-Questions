{
 "cells": [
  {
   "cell_type": "markdown",
   "id": "cd230f7b",
   "metadata": {},
   "source": [
    "# Magic 8 Ball"
   ]
  },
  {
   "cell_type": "markdown",
   "id": "02dac5ef",
   "metadata": {},
   "source": [
    "We’ll be using the following 9 possible answers for our Magic 8-Ball:\n",
    "\n",
    "Yes - definitely.\n",
    "\n",
    "It is decidedly so.\n",
    "\n",
    "Without a doubt.\n",
    "\n",
    "Reply hazy, try again.\n",
    "\n",
    "Ask again later.\n",
    "\n",
    "Better not tell you now.\n",
    "\n",
    "My sources say no.\n",
    "\n",
    "Outlook not so good.\n",
    "\n",
    "Very doubtful."
   ]
  },
  {
   "cell_type": "code",
   "execution_count": 1,
   "id": "881a74a2",
   "metadata": {},
   "outputs": [
    {
     "name": "stdout",
     "output_type": "stream",
     "text": [
      "9\n",
      "Nusan asks:Do you like swimming?\n",
      "Magic 8-Ball's answer: Very doubtful\n"
     ]
    }
   ],
   "source": [
    "import random\n",
    "name=\"Nusan\"\n",
    "question=\"Do you like swimming?\"\n",
    "answer=\"\"\n",
    "random_number=random.randint(1,9)\n",
    "print(random_number)\n",
    "if random_number==1:\n",
    "  answer=\"Yes - definitely\"\n",
    "elif random_number==2:\n",
    "  answer=\"It is decidedly so\"\n",
    "elif random_number==3:\n",
    "  answer=\"Without a doubt\"\n",
    "elif random_number==4:\n",
    "  answer=\"Reply hazy, try again\"\n",
    "elif random_number==5:\n",
    "  answer=\"Ask again later\"\n",
    "elif random_number==6:\n",
    "  answer=\"Better not tell you now\"\n",
    "elif random_number==7:\n",
    "  answer=\"My sources say no\"\n",
    "elif random_number==8:\n",
    "  answer=\"Outlook not so good\"\n",
    "elif random_number==9:\n",
    "  answer=\"Very doubtful\"\n",
    "else:\n",
    "  answer=\"Error\"\n",
    "print(name+ \" asks:\"+ question)\n",
    "print(\"Magic 8-Ball's answer: \"+ answer)"
   ]
  },
  {
   "cell_type": "code",
   "execution_count": null,
   "id": "2bfcf72a",
   "metadata": {},
   "outputs": [],
   "source": []
  }
 ],
 "metadata": {
  "kernelspec": {
   "display_name": "Python 3 (ipykernel)",
   "language": "python",
   "name": "python3"
  },
  "language_info": {
   "codemirror_mode": {
    "name": "ipython",
    "version": 3
   },
   "file_extension": ".py",
   "mimetype": "text/x-python",
   "name": "python",
   "nbconvert_exporter": "python",
   "pygments_lexer": "ipython3",
   "version": "3.9.7"
  }
 },
 "nbformat": 4,
 "nbformat_minor": 5
}
